{
 "cells": [
  {
   "cell_type": "code",
   "execution_count": 5,
   "metadata": {},
   "outputs": [
    {
     "data": {
      "text/html": [
       "<img src=\"https://spasik.com/wa-data/public/shop/products/09/52/5209/images/6134/6134.970.jpg\" width=\"300\" height=\"300\"/>"
      ],
      "text/plain": [
       "<IPython.core.display.Image object>"
      ]
     },
     "metadata": {},
     "output_type": "display_data"
    },
    {
     "name": "stdout",
     "output_type": "stream",
     "text": [
      "This is \n",
      "  -  hardshell with probability 0.999\n",
      "  -  insulated with probability 0.001\n"
     ]
    }
   ],
   "source": [
    "import http.client, json\n",
    "from IPython.display import Image\n",
    "\n",
    "headers = {\n",
    "    # Request headers\n",
    "    'Prediction-Key': '402927c81e7d4c2a90d2cb9b1a0eb144',\n",
    "    'Content-Type': 'application/json'\n",
    "}\n",
    "\n",
    "#url = \"https://www.rosebikes.com/media/product/610_406_91/9e/2258063_1.2b2c.jpg\"\n",
    "#url = \"https://az812905.vo.msecnd.net/azure/cdn/inriver/v1/7518/9780/7518-9780_0.jpg\"\n",
    "#url = \"https://www.bfgcdn.com/1500_1500_90/104-0536-1411/the-north-face-womens-quest-insulated-jacket.jpg\"\n",
    "url = \"https://spasik.com/wa-data/public/shop/products/09/52/5209/images/6134/6134.970.jpg\"\n",
    "#url = \"https://milanova.com.ua/pics/tov/big/1068_3935.jpg\"\n",
    "\n",
    "body = '{\"Url\": \"' + url + '\"}'\n",
    "\n",
    "\n",
    "display(Image(url=url, width=300, height=300))\n",
    "\n",
    "request = 'https://southcentralus.api.cognitive.microsoft.com/customvision/v2.0/Prediction/d1d194a3-572b-4d60-8453-a551c96f2db8/url?iterationId=f33cc5ab-6fe8-4e23-85a0-e5fbd8281c84'\n",
    "\n",
    "try:\n",
    "    conn = http.client.HTTPSConnection('southcentralus.api.cognitive.microsoft.com')\n",
    "    conn.request(\"POST\", request, body, headers)\n",
    "    response = conn.getresponse()\n",
    "    data = response.read()\n",
    "    predict = json.loads(str(data, 'utf-8'))\n",
    "    print ('This is ')\n",
    "    for prediction in predict[\"predictions\"]:\n",
    "         print('  -  {0} with probability {1:.3f}'.format(prediction[\"tagName\"], prediction[\"probability\"]))\n",
    "    conn.close()\n",
    "except Exception as e:\n",
    "    print(\"[Errno {0}] {1}\".format(e.errno, e.strerror))"
   ]
  },
  {
   "cell_type": "code",
   "execution_count": null,
   "metadata": {},
   "outputs": [],
   "source": []
  }
 ],
 "metadata": {
  "kernelspec": {
   "display_name": "Python 3",
   "language": "python",
   "name": "python3"
  },
  "language_info": {
   "codemirror_mode": {
    "name": "ipython",
    "version": 3
   },
   "file_extension": ".py",
   "mimetype": "text/x-python",
   "name": "python",
   "nbconvert_exporter": "python",
   "pygments_lexer": "ipython3",
   "version": "3.5.5"
  }
 },
 "nbformat": 4,
 "nbformat_minor": 2
}
