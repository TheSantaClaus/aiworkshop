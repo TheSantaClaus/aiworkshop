{
 "cells": [
  {
   "cell_type": "markdown",
   "metadata": {},
   "source": [
    "## Challenge 0: Environment Setup\n",
    "-\tActivate Azure Subscription \n",
    "-\tCreate Data Science Virtual Machine (DSVM) Ubuntu. Choose any machine with GPU, like Standard NC6 (6 vcpus, 56 GB memory)\n",
    "-\tLogin to Jupiter server: http://(Server IP):8000\n",
    "-\tSSH to the VM with SSH client (like Putty: https://www.putty.org)\n",
    "-\tClone this git repository to the local PC\n",
    "-\tClone this git repository to DSVM into ~/notebooks\n",
    "-\tUnzip images. Run on the server shell: cd ~/notebooks/aiworkshop/data ; unzip gear_images.zip\n"
   ]
  },
  {
   "cell_type": "code",
   "execution_count": 2,
   "metadata": {},
   "outputs": [
    {
     "name": "stdout",
     "output_type": "stream",
     "text": [
      "Hello!\n"
     ]
    }
   ],
   "source": [
    "print(\"Hello!\")"
   ]
  },
  {
   "cell_type": "code",
   "execution_count": 3,
   "metadata": {},
   "outputs": [
    {
     "name": "stdout",
     "output_type": "stream",
     "text": [
      "4\n"
     ]
    }
   ],
   "source": [
    "a= 2 + 2\n",
    "print(a)"
   ]
  },
  {
   "cell_type": "code",
   "execution_count": 4,
   "metadata": {},
   "outputs": [
    {
     "data": {
      "text/plain": [
       "['10216475x1043345_zm.jpeg',\n",
       " '51HtbaNyWrL._AC_US436_QL65_.jpg',\n",
       " 'PAAAIAHENGMMFJBAx1002668_zm.jpeg',\n",
       " '51t-mAcoA0L._AC_US436_QL65_.jpg',\n",
       " '10305296x1039826_zm.jpeg',\n",
       " '896260.jpeg',\n",
       " '41KnC3aFGUL._AC_US436_QL65_.jpg',\n",
       " '51IJ--8cbyL._AC_US436_QL65_.jpg',\n",
       " 'PMMPIHLHKKCNMANJx1014040_zm.jpeg',\n",
       " '10345928x1037092_zm.jpeg',\n",
       " '41xDIHr+AeL._AC_US436_QL65_.jpg',\n",
       " '51YZs+KEHML._AC_US436_QL65_.jpg',\n",
       " '881270.jpeg',\n",
       " '10170757x1014040_zm.jpeg',\n",
       " '10326417x1012905_zm.jpeg',\n",
       " '10304622x1123061_zm.jpeg',\n",
       " '51VGqNBvazL._AC_US436_QL65_.jpg',\n",
       " '874196.jpeg',\n",
       " '51KhQXD6tIL._AC_US436_QL65_.jpg',\n",
       " '866950.jpeg',\n",
       " '10305295x1039826_zm.jpeg',\n",
       " '51q6csZ+HwL._AC_US436_QL65_.jpg',\n",
       " '10219749x1060653_zm.jpeg',\n",
       " '51y2T-wFPqL._AC_US436_QL65_.jpg',\n",
       " '859910.jpeg',\n",
       " '51xk7ZHkCkL._AC_US436_QL65_.jpg',\n",
       " '51DbnWtlxIL._AC_US436_QL65_.jpg',\n",
       " '516q5-A0wJL._AC_US436_QL65_.jpg',\n",
       " '10241341x1052351_zm.jpeg',\n",
       " '51LnXV8cqtL._AC_US436_QL65_.jpg',\n",
       " '10323078x1042840_zm.jpeg',\n",
       " '41PwYvq6hGL._AC_US436_QL65_.jpg',\n",
       " '515b5yc46SL._AC_US436_QL65_.jpg',\n",
       " '51nFShTzUFL._AC_US436_QL65_.jpg',\n",
       " '113526.jpeg',\n",
       " '10101265x1011117_zm.jpeg',\n",
       " '113106.jpeg',\n",
       " '10200698x1011850_zm.jpeg',\n",
       " '896259.jpeg',\n",
       " '10300048x1101054_zm.jpeg',\n",
       " '10211759x1104651_zm.jpeg',\n",
       " '51QgEWGyZ-L._AC_US436_QL65_.jpg',\n",
       " '51+nIOMqb8L._AC_US436_QL65_.jpg',\n",
       " '10296921x1118332_zm.jpeg',\n",
       " '51b3fV1+VnL._AC_US436_QL65_.jpg',\n",
       " '10084984x1012905_zm.jpeg',\n",
       " '10331425x1011760_zm.jpeg',\n",
       " '866908.jpeg',\n",
       " '51ibQtw+VfL._AC_US436_QL65_.jpg',\n",
       " '113107.jpeg',\n",
       " '10255621x1039826_zm.jpeg',\n",
       " '51hgB3uDubL._AC_US436_QL65_.jpg',\n",
       " '105262.jpeg',\n",
       " 'PAAAIALEPOLAOKBAx1039826_zm.jpeg',\n",
       " '51hAX8xT6bL._AC_US436_QL65_.jpg',\n",
       " '10219722x1041642_zm.jpeg',\n",
       " '10241341x1036951_zm.jpeg',\n",
       " '113528.jpeg',\n",
       " '10018755x1036824_zm.jpeg',\n",
       " '517uO6dTZwL._AC_US436_QL65_.jpg',\n",
       " '733952.jpeg',\n",
       " '41g8AEsxLvL._AC_US436_QL65_.jpg',\n",
       " '51ZAghEeYGL._AC_US436_QL65_.jpg',\n",
       " '51WX8V6q94L._AC_US436_QL65_.jpg',\n",
       " '10323515x1012905_zm.jpeg',\n",
       " '51LiOiGtpLL._AC_US436_QL65_.jpg',\n",
       " '41edw+BCUjL._AC_US436_QL65_.jpg',\n",
       " '10345977x1037092_zm.jpeg',\n",
       " '10200679x1011850_zm.jpeg',\n",
       " '51J1tNBAB2L._AC_US436_QL65_.jpg',\n",
       " '10255616x1011898_zm.jpeg',\n",
       " '51yQeovtEdL._AC_US436_QL65_.jpg',\n",
       " '10345947x1013041_zm.jpeg',\n",
       " '866158.jpeg',\n",
       " '10334266x1143977_zm.jpeg',\n",
       " '10331428x1012948_zm.jpeg',\n",
       " '10290794x1011441_zm.jpeg',\n",
       " '10345908x1010938_zm.jpeg',\n",
       " '51XZd2kVbfL._AC_US436_QL65_.jpg',\n",
       " '10323079x1040337_zm.jpeg',\n",
       " '10326416x1013041_zm.jpeg',\n",
       " '10240279x1036930_zm.jpeg',\n",
       " '866951.jpeg',\n",
       " '10270446x1103408_zm.jpeg',\n",
       " '10334412x1087698_zm.jpeg',\n",
       " '113101.jpeg',\n",
       " '113122.jpeg',\n",
       " '10345941x1010913_zm.jpeg',\n",
       " '51mDm6rlLcL._AC_US436_QL65_.jpg',\n",
       " '10270695x1051081_zm.jpeg',\n",
       " '51KeZRFZ0oL._AC_US436_QL65_.jpg',\n",
       " '10334413x1144029_zm.jpeg',\n",
       " '10334401x1144029_zm.jpeg',\n",
       " '51Bmk2vA-1L._AC_US436_QL65_.jpg',\n",
       " '51fzUBASxyL._AC_US436_QL65_.jpg',\n",
       " '10025602x1037016_zm.jpeg',\n",
       " '10306541x1013052_zm.jpeg',\n",
       " '10243572x1043971_zm.jpeg',\n",
       " '10345929x1037092_zm.jpeg',\n",
       " '10303016x1052599_zm.jpeg',\n",
       " '51dy1tmscGL._AC_US436_QL65_.jpg',\n",
       " '10025823x1060557_zm.jpeg',\n",
       " '51fxSrdRH3L._AC_US436_QL65_.jpg',\n",
       " '41pNuZSfz+L._AC_US436_QL65_.jpg',\n",
       " '51+sBEj9KQL._AC_US436_QL65_.jpg',\n",
       " '10240274x1036930_zm.jpeg',\n",
       " '10243530x1037016_zm.jpeg',\n",
       " '10334414x1144030_zm.jpeg',\n",
       " '51IyupjqF-L._AC_US436_QL65_.jpg',\n",
       " '512h+0ULvzL._AC_US436_QL65_.jpg',\n",
       " '51MiCLo7tEL._AC_US436_QL65_.jpg',\n",
       " '51AgGxRzlxL._AC_US436_QL65_.jpg',\n",
       " '10304046x1122871_zm.jpeg',\n",
       " '881431.jpeg',\n",
       " '10240275x1036930_zm.jpeg',\n",
       " '10331427x1141592_zm.jpeg']"
      ]
     },
     "execution_count": 4,
     "metadata": {},
     "output_type": "execute_result"
    }
   ],
   "source": [
    "import os\n",
    "os.listdir(\"data/gear_images/boots\")"
   ]
  },
  {
   "cell_type": "code",
   "execution_count": 5,
   "metadata": {},
   "outputs": [
    {
     "data": {
      "image/jpeg": "[encoded data removed]",
      "text/plain": [
       "<IPython.core.display.Image object>"
      ]
     },
     "metadata": {},
     "output_type": "display_data"
    }
   ],
   "source": [
    "from IPython.display import Image\n",
    "display(Image(filename=\"data/gear_images/boots/10170757x1014040_zm.jpeg\"))"
   ]
  },
  {
   "cell_type": "code",
   "execution_count": 6,
   "metadata": {},
   "outputs": [],
   "source": [
    "# "
   ]
  }
 ],
 "metadata": {
  "kernelspec": {
   "display_name": "Python 3",
   "language": "python",
   "name": "python3"
  },
  "language_info": {
   "codemirror_mode": {
    "name": "ipython",
    "version": 3
   },
   "file_extension": ".py",
   "mimetype": "text/x-python",
   "name": "python",
   "nbconvert_exporter": "python",
   "pygments_lexer": "ipython3",
   "version": "3.5.5"
  }
 },
 "nbformat": 4,
 "nbformat_minor": 2
}
