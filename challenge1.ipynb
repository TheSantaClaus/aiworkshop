{
 "cells": [
  {
   "attachments": {},
   "cell_type": "markdown",
   "metadata": {},
   "source": [
    "## Challenge 1: Custom Vision API [https://customvision.ai]\n",
    "\n",
    "Custom Vision Service is a tool for building custom image classifiers. The challenge is to create a classification model using a portion of the gear catalog images for hard-shell jackets and insulated jackets and test new images using Python and Jupyter Notebooks.\n"
   ]
  },
  {
   "cell_type": "code",
   "execution_count": 1,
   "metadata": {},
   "outputs": [
    {
     "data": {
      "text/html": [
       "<img src=\"https://www.themountainedge.com/images/berghaus-mens-ulvetanna-hybrid-2-0-insulated-jacket-p18010-5692_image.jpg\" width=\"300\" height=\"300\"/>"
      ],
      "text/plain": [
       "<IPython.core.display.Image object>"
      ]
     },
     "metadata": {},
     "output_type": "display_data"
    },
    {
     "name": "stdout",
     "output_type": "stream",
     "text": [
      "This is \n",
      "  -  insulated_jackets with probability 1.000\n",
      "  -  hardshell_jackets with probability 0.000\n"
     ]
    }
   ],
   "source": [
    "import http.client, json\n",
    "from IPython.display import Image\n",
    "\n",
    "headers = {\n",
    "    # Request headers\n",
    "    'Prediction-Key': 'c2daabcca4864d61844d67c4a15764f0',\n",
    "    'Content-Type': 'application/json'\n",
    "}\n",
    "\n",
    "#url = \"https://www.rosebikes.com/media/product/610_406_91/9e/2258063_1.2b2c.jpg\"\n",
    "#url = \"https://az812905.vo.msecnd.net/azure/cdn/inriver/v1/7518/9780/7518-9780_0.jpg\"\n",
    "#url = \"https://www.bfgcdn.com/1500_1500_90/104-0536-1411/the-north-face-womens-quest-insulated-jacket.jpg\"\n",
    "url = \"https://www.themountainedge.com/images/berghaus-mens-ulvetanna-hybrid-2-0-insulated-jacket-p18010-5692_image.jpg\"\n",
    "#url = \"https://milanova.com.ua/pics/tov/big/1068_3935.jpg\"\n",
    "\n",
    "body = '{\"Url\": \"' + url + '\"}'\n",
    "\n",
    "\n",
    "display(Image(url=url, width=300, height=300))\n",
    "\n",
    "request = 'https://southcentralus.api.cognitive.microsoft.com/customvision/v2.0/Prediction/fabf2e25-e680-4af4-bde2-d8e455e2441d/url?iterationId=07b18eae-0b2f-4274-a61f-849518f68da4'\n",
    "\n",
    "try:\n",
    "    conn = http.client.HTTPSConnection('southcentralus.api.cognitive.microsoft.com')\n",
    "    conn.request(\"POST\", request, body, headers)\n",
    "    response = conn.getresponse()\n",
    "    data = response.read()\n",
    "    predict = json.loads(str(data, 'utf-8'))\n",
    "    print ('This is ')\n",
    "    for prediction in predict[\"predictions\"]:\n",
    "         print('  -  {0} with probability {1:.3f}'.format(prediction[\"tagName\"], prediction[\"probability\"]))\n",
    "    conn.close()\n",
    "except Exception as e:\n",
    "    print(\"[Errno {0}] {1}\".format(e.errno, e.strerror))"
   ]
  },
  {
   "cell_type": "code",
   "execution_count": null,
   "metadata": {},
   "outputs": [],
   "source": []
  },
  {
   "cell_type": "code",
   "execution_count": null,
   "metadata": {},
   "outputs": [],
   "source": []
  },
  {
   "cell_type": "code",
   "execution_count": null,
   "metadata": {},
   "outputs": [],
   "source": []
  }
 ],
 "metadata": {
  "kernelspec": {
   "display_name": "Python 3",
   "language": "python",
   "name": "python3"
  },
  "language_info": {
   "codemirror_mode": {
    "name": "ipython",
    "version": 3
   },
   "file_extension": ".py",
   "mimetype": "text/x-python",
   "name": "python",
   "nbconvert_exporter": "python",
   "pygments_lexer": "ipython3",
   "version": "3.5.5"
  }
 },
 "nbformat": 4,
 "nbformat_minor": 2
}
