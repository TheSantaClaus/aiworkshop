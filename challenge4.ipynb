{
 "cells": [
  {
   "cell_type": "markdown",
   "metadata": {},
   "source": [
    "# Challenge 4: Convolutional Neural Networks\n",
    "Create a Convolutional Neural Network (a deep learning architecture) to classify the gear data. The architecture or design should contain a mix of layers such as convolutional and pooling.\n",
    "Train a model on the training dataset using the deided architecture. You may have to iterate on the architecture. Make sure the best trained model is saved to disk."
   ]
  },
  {
   "cell_type": "code",
   "execution_count": 1,
   "metadata": {},
   "outputs": [],
   "source": [
    "import numpy as np\n",
    "\n",
    "np.random.seed(42)\n",
    "\n",
    "%matplotlib inline\n",
    "\n",
    "from sklearn import metrics  \n",
    "import seaborn as sn\n",
    "import pandas as pd\n",
    "from sklearn.metrics import classification_report\n",
    "import matplotlib.pyplot as plt\n",
    "\n",
    "def report(y_true, y_pred):\n",
    "    print(\"Accuracy score: \", metrics.accuracy_score(y_true, y_pred, normalize=True))\n",
    "    print(classification_report(y_true, y_pred))\n",
    "    labels = encoder.inverse_transform(np.unique(y_true))\n",
    "    df_cm = pd.DataFrame(\n",
    "        metrics.confusion_matrix(y_true, y_pred), \n",
    "        index=labels, \n",
    "        columns=labels\n",
    "    )\n",
    "    plt.figure(figsize = (10,7))\n",
    "    sn.heatmap(df_cm, annot=True)\n",
    "    plt.show()"
   ]
  },
  {
   "cell_type": "markdown",
   "metadata": {},
   "source": [
    "## 1. Creating dataset"
   ]
  },
  {
   "cell_type": "code",
   "execution_count": 2,
   "metadata": {},
   "outputs": [
    {
     "name": "stderr",
     "output_type": "stream",
     "text": [
      "/anaconda/envs/py35/lib/python3.5/site-packages/h5py/__init__.py:36: FutureWarning: Conversion of the second argument of issubdtype from `float` to `np.floating` is deprecated. In future, it will be treated as `np.float64 == np.dtype(float).type`.\n",
      "  from ._conv import register_converters as _register_converters\n",
      "Using TensorFlow backend.\n"
     ]
    },
    {
     "name": "stdout",
     "output_type": "stream",
     "text": [
      "pulleys\n",
      "Train dataset shape: (2122, 128, 128, 3) (2122,)\n"
     ]
    },
    {
     "name": "stderr",
     "output_type": "stream",
     "text": [
      "/anaconda/envs/py35/lib/python3.5/site-packages/sklearn/preprocessing/label.py:151: DeprecationWarning: The truth value of an empty array is ambiguous. Returning False, but in future this will result in an error. Use `array.size > 0` to check that an array is not empty.\n",
      "  if diff:\n"
     ]
    }
   ],
   "source": [
    "from os import walk, listdir\n",
    "from os.path import isfile, join\n",
    "import cv2\n",
    "from sklearn.utils import shuffle\n",
    "from keras.utils import np_utils\n",
    "from sklearn.preprocessing import LabelEncoder\n",
    "from sklearn.model_selection import train_test_split\n",
    "\n",
    "def load_dataset(folder):\n",
    "    X = []\n",
    "    y = []\n",
    "    paths = []\n",
    "    for (dir_path, _, _) in walk(folder):\n",
    "        label = dir_path.replace(folder, '').replace('\\\\', '').replace('/', '')\n",
    "        files = [f for f in listdir(dir_path) if isfile(join(dir_path, f))]\n",
    "        for file in files:\n",
    "            img = cv2.imread(join(dir_path, file))\n",
    "            X.append(img)\n",
    "            y.append(label)\n",
    "            paths.append(join(dir_path, file))\n",
    "    return np.array(X), np.array(y), np.array(paths)\n",
    "\n",
    "X, y, paths = load_dataset(\"data/gear_images_preprocessed\")\n",
    "\n",
    "# Encode class values as integers\n",
    "encoder = LabelEncoder()\n",
    "encoder.fit(y)\n",
    "\n",
    "y_encoded = encoder.transform(y)\n",
    "\n",
    "y_dummy = np_utils.to_categorical(y_encoded)\n",
    "print(encoder.inverse_transform(np.argmax(y_dummy[2020])))\n",
    "#print(*X[1,1])\n",
    "#print(*y_dummy[2121])\n",
    "print(\"Train dataset shape:\", X.shape, y.shape)\n"
   ]
  },
  {
   "cell_type": "code",
   "execution_count": 3,
   "metadata": {},
   "outputs": [
    {
     "name": "stdout",
     "output_type": "stream",
     "text": [
      "Train dataset shape: (1357, 128, 128, 3) (1357, 12)\n",
      "Test dataset shape: (425, 128, 128, 3) (425, 12)\n",
      "Val dataset shape: (340, 128, 128, 3) (340, 12)\n"
     ]
    }
   ],
   "source": [
    "X_train, X_test, y_train, y_test = train_test_split(X, y_dummy, test_size=0.2, random_state=42, stratify=y)\n",
    "X_train, X_val, y_train, y_val = train_test_split(X_train, y_train, test_size=0.2, random_state=42)\n",
    "\n",
    "print(\"Train dataset shape:\", X_train.shape, y_train.shape)\n",
    "print(\"Test dataset shape:\", X_test.shape, y_test.shape)\n",
    "print(\"Val dataset shape:\", X_val.shape, y_val.shape)"
   ]
  },
  {
   "cell_type": "code",
   "execution_count": 4,
   "metadata": {},
   "outputs": [],
   "source": [
    "from keras.models import Sequential\n",
    "from keras.layers.normalization import BatchNormalization\n",
    "from keras.layers.convolutional import Conv2D, MaxPooling2D\n",
    "from keras.layers.core import Activation, Flatten, Dropout, Dense\n",
    "from keras import backend as K\n",
    "from keras import optimizers\n",
    "from keras import losses"
   ]
  },
  {
   "cell_type": "code",
   "execution_count": 5,
   "metadata": {},
   "outputs": [],
   "source": [
    "class BasicNet:\n",
    "    @staticmethod\n",
    "    def build(width, height, depth, classes):\n",
    "        model = Sequential()\n",
    "        input_shape = (height, width, depth)\n",
    "        model.add(Conv2D(32, (2, 2), input_shape=input_shape))\n",
    "        model.add(Conv2D(64, (2, 2), activation='relu'))\n",
    "        model.add(MaxPooling2D(pool_size=(2, 2)))\n",
    "        model.add(Dropout(0.25))\n",
    "        model.add(Flatten())\n",
    "        model.add(Dense(128, activation='relu'))\n",
    "        model.add(Dropout(0.5))\n",
    "        model.add(Dense(classes, activation='softmax'))\n",
    "        return model"
   ]
  },
  {
   "cell_type": "code",
   "execution_count": 6,
   "metadata": {},
   "outputs": [
    {
     "name": "stdout",
     "output_type": "stream",
     "text": [
      "_________________________________________________________________\n",
      "Layer (type)                 Output Shape              Param #   \n",
      "=================================================================\n",
      "conv2d_1 (Conv2D)            (None, 127, 127, 32)      416       \n",
      "_________________________________________________________________\n",
      "conv2d_2 (Conv2D)            (None, 126, 126, 64)      8256      \n",
      "_________________________________________________________________\n",
      "max_pooling2d_1 (MaxPooling2 (None, 63, 63, 64)        0         \n",
      "_________________________________________________________________\n",
      "dropout_1 (Dropout)          (None, 63, 63, 64)        0         \n",
      "_________________________________________________________________\n",
      "flatten_1 (Flatten)          (None, 254016)            0         \n",
      "_________________________________________________________________\n",
      "dense_1 (Dense)              (None, 128)               32514176  \n",
      "_________________________________________________________________\n",
      "dropout_2 (Dropout)          (None, 128)               0         \n",
      "_________________________________________________________________\n",
      "dense_2 (Dense)              (None, 12)                1548      \n",
      "=================================================================\n",
      "Total params: 32,524,396\n",
      "Trainable params: 32,524,396\n",
      "Non-trainable params: 0\n",
      "_________________________________________________________________\n"
     ]
    }
   ],
   "source": [
    "epochs = 20\n",
    "batch_size = 64\n",
    "image_dims = (128, 128, 3)\n",
    "num_classes = len(np.unique(y))\n",
    "\n",
    "model = BasicNet.build(\n",
    "    width=image_dims[1], height=image_dims[0],\n",
    "    depth=image_dims[2], classes=num_classes\n",
    ")\n",
    " \n",
    "model.summary()"
   ]
  },
  {
   "cell_type": "code",
   "execution_count": 7,
   "metadata": {},
   "outputs": [
    {
     "name": "stdout",
     "output_type": "stream",
     "text": [
      "Train on 1357 samples, validate on 340 samples\n",
      "Epoch 1/20\n",
      "1357/1357 [==============================] - 8s 6ms/step - loss: 3.8676 - categorical_accuracy: 0.3176 - val_loss: 1.3762 - val_categorical_accuracy: 0.6294\n",
      "Epoch 2/20\n",
      "1357/1357 [==============================] - 4s 3ms/step - loss: 1.1000 - categorical_accuracy: 0.6713 - val_loss: 0.6363 - val_categorical_accuracy: 0.8412\n",
      "Epoch 3/20\n",
      "1357/1357 [==============================] - 4s 3ms/step - loss: 0.5089 - categorical_accuracy: 0.8475 - val_loss: 0.5357 - val_categorical_accuracy: 0.8529\n",
      "Epoch 4/20\n",
      "1357/1357 [==============================] - 4s 3ms/step - loss: 0.3031 - categorical_accuracy: 0.9204 - val_loss: 0.4453 - val_categorical_accuracy: 0.8765\n",
      "Epoch 5/20\n",
      "1357/1357 [==============================] - 4s 3ms/step - loss: 0.2083 - categorical_accuracy: 0.9403 - val_loss: 0.4506 - val_categorical_accuracy: 0.8647\n",
      "Epoch 6/20\n",
      "1357/1357 [==============================] - 4s 3ms/step - loss: 0.1721 - categorical_accuracy: 0.9477 - val_loss: 0.3731 - val_categorical_accuracy: 0.9088\n",
      "Epoch 7/20\n",
      "1357/1357 [==============================] - 4s 3ms/step - loss: 0.0917 - categorical_accuracy: 0.9786 - val_loss: 0.3479 - val_categorical_accuracy: 0.9059\n",
      "Epoch 8/20\n",
      "1357/1357 [==============================] - 4s 3ms/step - loss: 0.0699 - categorical_accuracy: 0.9786 - val_loss: 0.3580 - val_categorical_accuracy: 0.9059\n",
      "Epoch 9/20\n",
      "1357/1357 [==============================] - 4s 3ms/step - loss: 0.0571 - categorical_accuracy: 0.9889 - val_loss: 0.3257 - val_categorical_accuracy: 0.9176\n",
      "Epoch 10/20\n",
      "1357/1357 [==============================] - 4s 3ms/step - loss: 0.0510 - categorical_accuracy: 0.9882 - val_loss: 0.4686 - val_categorical_accuracy: 0.8853\n",
      "Epoch 11/20\n",
      "1357/1357 [==============================] - 4s 3ms/step - loss: 0.0371 - categorical_accuracy: 0.9912 - val_loss: 0.3657 - val_categorical_accuracy: 0.9206\n",
      "Epoch 12/20\n",
      "1357/1357 [==============================] - 4s 3ms/step - loss: 0.0273 - categorical_accuracy: 0.9941 - val_loss: 0.4241 - val_categorical_accuracy: 0.9000\n",
      "Epoch 13/20\n",
      "1357/1357 [==============================] - 4s 3ms/step - loss: 0.0249 - categorical_accuracy: 0.9948 - val_loss: 0.3978 - val_categorical_accuracy: 0.9059\n",
      "Epoch 14/20\n",
      "1357/1357 [==============================] - 4s 3ms/step - loss: 0.0178 - categorical_accuracy: 0.9971 - val_loss: 0.3954 - val_categorical_accuracy: 0.9206\n",
      "Epoch 15/20\n",
      "1357/1357 [==============================] - 4s 3ms/step - loss: 0.0201 - categorical_accuracy: 0.9948 - val_loss: 0.4199 - val_categorical_accuracy: 0.9118\n",
      "Epoch 16/20\n",
      "1357/1357 [==============================] - 4s 3ms/step - loss: 0.0200 - categorical_accuracy: 0.9941 - val_loss: 0.4471 - val_categorical_accuracy: 0.9147\n",
      "Epoch 17/20\n",
      "1357/1357 [==============================] - 4s 3ms/step - loss: 0.0161 - categorical_accuracy: 0.9978 - val_loss: 0.4600 - val_categorical_accuracy: 0.9118\n",
      "Epoch 18/20\n",
      "1357/1357 [==============================] - 4s 3ms/step - loss: 0.0141 - categorical_accuracy: 0.9971 - val_loss: 0.4302 - val_categorical_accuracy: 0.9176\n",
      "Epoch 19/20\n",
      "1357/1357 [==============================] - 4s 3ms/step - loss: 0.0181 - categorical_accuracy: 0.9956 - val_loss: 0.4318 - val_categorical_accuracy: 0.9000\n",
      "Epoch 20/20\n",
      "1357/1357 [==============================] - 4s 3ms/step - loss: 0.0132 - categorical_accuracy: 0.9971 - val_loss: 0.4780 - val_categorical_accuracy: 0.9000\n"
     ]
    }
   ],
   "source": [
    "model.compile(\n",
    "    loss=losses.categorical_crossentropy, \n",
    "    optimizer=optimizers.Adadelta(), \n",
    "    metrics=['categorical_accuracy'], \n",
    ")\n",
    "\n",
    "history = model.fit(\n",
    "    X_train / 255, y_train, \n",
    "    batch_size=batch_size, \n",
    "    validation_data=(X_val / 255, y_val), \n",
    "    epochs=epochs, \n",
    "    verbose=1\n",
    ")\n"
   ]
  },
  {
   "cell_type": "code",
   "execution_count": 8,
   "metadata": {},
   "outputs": [
    {
     "name": "stdout",
     "output_type": "stream",
     "text": [
      "Accuracy score:  0.8682352941176471\n",
      "             precision    recall  f1-score   support\n",
      "\n",
      "          0       1.00      0.44      0.61        16\n",
      "          1       0.96      1.00      0.98        23\n",
      "          2       0.88      0.94      0.91        53\n",
      "          3       0.88      0.92      0.90        24\n",
      "          4       0.86      0.84      0.85        43\n",
      "          5       0.83      0.92      0.87        92\n",
      "          6       0.95      0.97      0.96        37\n",
      "          7       0.82      0.74      0.78        19\n",
      "          8       0.87      0.69      0.77        48\n",
      "          9       1.00      0.50      0.67         8\n",
      "         10       0.77      0.95      0.85        39\n",
      "         11       1.00      0.96      0.98        23\n",
      "\n",
      "avg / total       0.88      0.87      0.86       425\n",
      "\n"
     ]
    },
    {
     "name": "stderr",
     "output_type": "stream",
     "text": [
      "/anaconda/envs/py35/lib/python3.5/site-packages/sklearn/preprocessing/label.py:151: DeprecationWarning: The truth value of an empty array is ambiguous. Returning False, but in future this will result in an error. Use `array.size > 0` to check that an array is not empty.\n",
      "  if diff:\n"
     ]
    },
    {
     "data": {
      "image/png": "[encoded data removed]",
      "text/plain": [
       "<Figure size 720x504 with 2 Axes>"
      ]
     },
     "metadata": {},
     "output_type": "display_data"
    }
   ],
   "source": [
    "\n",
    "# Calculate score\n",
    "y_pred  = model.predict(X_test / 255)\n",
    "y_pred_flatten = np.argmax(y_pred, axis=1) \n",
    "y_test_flatten = np.argmax(y_test, axis=1) \n",
    "\n",
    "report(y_test_flatten, y_pred_flatten)"
   ]
  },
  {
   "cell_type": "code",
   "execution_count": 9,
   "metadata": {},
   "outputs": [],
   "source": [
    "#from keras.models import load_model\n",
    "import pickle\n",
    "\n",
    "# Saving model \n",
    "model.save('model_ch4.h5')\n",
    "\n",
    "# Saving labels\n",
    "with open(\"model_labels_ch4.dat\", \"wb\") as f:\n",
    "    pickle.dump(encoder, f, pickle.HIGHEST_PROTOCOL)"
   ]
  },
  {
   "cell_type": "code",
   "execution_count": 10,
   "metadata": {},
   "outputs": [],
   "source": [
    "from keras.models import load_model\n",
    "    \n",
    "m = load_model('model_ch4.h5')"
   ]
  },
  {
   "cell_type": "code",
   "execution_count": 11,
   "metadata": {},
   "outputs": [
    {
     "name": "stdout",
     "output_type": "stream",
     "text": [
      "_________________________________________________________________\n",
      "Layer (type)                 Output Shape              Param #   \n",
      "=================================================================\n",
      "conv2d_1 (Conv2D)            (None, 127, 127, 32)      416       \n",
      "_________________________________________________________________\n",
      "conv2d_2 (Conv2D)            (None, 126, 126, 64)      8256      \n",
      "_________________________________________________________________\n",
      "max_pooling2d_1 (MaxPooling2 (None, 63, 63, 64)        0         \n",
      "_________________________________________________________________\n",
      "dropout_1 (Dropout)          (None, 63, 63, 64)        0         \n",
      "_________________________________________________________________\n",
      "flatten_1 (Flatten)          (None, 254016)            0         \n",
      "_________________________________________________________________\n",
      "dense_1 (Dense)              (None, 128)               32514176  \n",
      "_________________________________________________________________\n",
      "dropout_2 (Dropout)          (None, 128)               0         \n",
      "_________________________________________________________________\n",
      "dense_2 (Dense)              (None, 12)                1548      \n",
      "=================================================================\n",
      "Total params: 32,524,396\n",
      "Trainable params: 32,524,396\n",
      "Non-trainable params: 0\n",
      "_________________________________________________________________\n"
     ]
    }
   ],
   "source": [
    "m.summary()"
   ]
  },
  {
   "cell_type": "code",
   "execution_count": 12,
   "metadata": {},
   "outputs": [
    {
     "name": "stdout",
     "output_type": "stream",
     "text": [
      "pulleys\n"
     ]
    },
    {
     "name": "stderr",
     "output_type": "stream",
     "text": [
      "/anaconda/envs/py35/lib/python3.5/site-packages/sklearn/preprocessing/label.py:151: DeprecationWarning: The truth value of an empty array is ambiguous. Returning False, but in future this will result in an error. Use `array.size > 0` to check that an array is not empty.\n",
      "  if diff:\n"
     ]
    }
   ],
   "source": [
    "\n",
    "path = \"data/gear_images_preprocessed/pulleys/10308568_zm.jpg\"\n",
    "img = cv2.imread(path)\n",
    "y_pred  = m.predict([[img]])\n",
    "print(encoder.inverse_transform(np.argmax(y_pred)))\n"
   ]
  },
  {
   "cell_type": "code",
   "execution_count": null,
   "metadata": {},
   "outputs": [],
   "source": []
  }
 ],
 "metadata": {
  "kernelspec": {
   "display_name": "Python 3",
   "language": "python",
   "name": "python3"
  },
  "language_info": {
   "codemirror_mode": {
    "name": "ipython",
    "version": 3
   },
   "file_extension": ".py",
   "mimetype": "text/x-python",
   "name": "python",
   "nbconvert_exporter": "python",
   "pygments_lexer": "ipython3",
   "version": "3.5.5"
  }
 },
 "nbformat": 4,
 "nbformat_minor": 2
}
